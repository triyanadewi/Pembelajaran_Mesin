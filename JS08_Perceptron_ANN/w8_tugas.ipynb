{
 "cells": [
  {
   "cell_type": "markdown",
   "metadata": {},
   "source": [
    "##### **Identitas Mahasiswa:**\n",
    "- Nama  : Triyana Dewi Fatmawati <br/>\n",
    "- NIM   : 2241720206 <br/>\n",
    "- Kelas : TI - 3H <br/>\n",
    "- Nomor : 25 <br/>\n",
    "\n",
    "---"
   ]
  },
  {
   "cell_type": "markdown",
   "metadata": {},
   "source": [
    "# **Tugas**\n",
    "- Lakukan klasifikasi pada data MNIST dengan menggunakan model ANN\n",
    "- Anda diperbolehkan melakukan eksplorasi terhadap,\n",
    "    - Metode pra pengolahan\n",
    "    - Pemilihan fitur\n",
    "    - Arsitektur ANN\n",
    "    - Fungsi Aktiviasi\n",
    "\n",
    "- ANN diimplementasikan dengan menggunakan tensorflow.\n",
    "- JELASKAN HASIL YANG ANDA DAPATKAN,\n",
    "    - AKURASI\n",
    "    - CONFUSION MATRIX\n",
    "    - KONFIGURASI MODEL --> MULAI DARI PRA PENGOLAHAN SAMPAI ARSITEKTUR ANN\n",
    "\n"
   ]
  },
  {
   "cell_type": "markdown",
   "metadata": {},
   "source": [
    "## **Pengerjaan**"
   ]
  },
  {
   "cell_type": "markdown",
   "metadata": {},
   "source": [
    "#### **Import Library**"
   ]
  },
  {
   "cell_type": "code",
   "execution_count": 1,
   "metadata": {},
   "outputs": [],
   "source": [
    "import numpy as np\n",
    "import pandas as pd\n",
    "import tensorflow as tf\n",
    "from tensorflow.keras.datasets import mnist\n",
    "from sklearn.preprocessing import StandardScaler\n",
    "from sklearn.metrics import confusion_matrix, accuracy_score\n",
    "import matplotlib.pyplot as plt"
   ]
  },
  {
   "cell_type": "markdown",
   "metadata": {},
   "source": [
    "#### **Load Data**"
   ]
  },
  {
   "cell_type": "code",
   "execution_count": 2,
   "metadata": {},
   "outputs": [
    {
     "name": "stdout",
     "output_type": "stream",
     "text": [
      "Training data shape: (60000, 28, 28), Training labels shape: (60000,)\n",
      "Test data shape: (10000, 28, 28), Test labels shape: (10000,)\n"
     ]
    }
   ],
   "source": [
    "# Memuat dataset MNIST\n",
    "(X_train, y_train), (X_test, y_test) = mnist.load_data()\n",
    "\n",
    "# Tampilkan dimensi dataset\n",
    "print(f\"Training data shape: {X_train.shape}, Training labels shape: {y_train.shape}\")\n",
    "print(f\"Test data shape: {X_test.shape}, Test labels shape: {y_test.shape}\")"
   ]
  },
  {
   "cell_type": "markdown",
   "metadata": {},
   "source": [
    "#### **Pra Pengolahan Data**"
   ]
  },
  {
   "cell_type": "markdown",
   "metadata": {},
   "source": [
    "Reshape Data"
   ]
  },
  {
   "cell_type": "code",
   "execution_count": 14,
   "metadata": {},
   "outputs": [],
   "source": [
    "# Reshape data\n",
    "X_train = X_train.reshape((X_train.shape[0], 28 * 28))\n",
    "X_test = X_test.reshape((X_test.shape[0], 28 * 28))"
   ]
  },
  {
   "cell_type": "markdown",
   "metadata": {},
   "source": [
    "Scaling Fitur"
   ]
  },
  {
   "cell_type": "code",
   "execution_count": 15,
   "metadata": {},
   "outputs": [],
   "source": [
    "sc = StandardScaler()\n",
    "X_train = sc.fit_transform(X_train)\n",
    "X_test = sc.transform(X_test)"
   ]
  },
  {
   "cell_type": "code",
   "execution_count": 16,
   "metadata": {},
   "outputs": [],
   "source": [
    "from tensorflow.keras.utils import to_categorical\n",
    "\n",
    "# One-hot encoding untuk label\n",
    "y_train_one_hot = to_categorical(y_train)\n",
    "y_test_one_hot = to_categorical(y_test)"
   ]
  },
  {
   "cell_type": "markdown",
   "metadata": {},
   "source": [
    "#### **Membuat Model ANN**"
   ]
  },
  {
   "cell_type": "markdown",
   "metadata": {},
   "source": [
    "Inisiasi Model ANN"
   ]
  },
  {
   "cell_type": "code",
   "execution_count": 17,
   "metadata": {},
   "outputs": [],
   "source": [
    "ann = tf.keras.models.Sequential()"
   ]
  },
  {
   "cell_type": "markdown",
   "metadata": {},
   "source": [
    "Membuat Input Layer dan Hidden Layer Pertama"
   ]
  },
  {
   "cell_type": "code",
   "execution_count": 18,
   "metadata": {},
   "outputs": [
    {
     "name": "stderr",
     "output_type": "stream",
     "text": [
      "c:\\Python312\\Lib\\site-packages\\keras\\src\\layers\\core\\dense.py:87: UserWarning: Do not pass an `input_shape`/`input_dim` argument to a layer. When using Sequential models, prefer using an `Input(shape)` object as the first layer in the model instead.\n",
      "  super().__init__(activity_regularizer=activity_regularizer, **kwargs)\n"
     ]
    }
   ],
   "source": [
    "ann.add(tf.keras.layers.Dense(units=128, activation='relu', input_shape=(28*28,)))"
   ]
  },
  {
   "cell_type": "markdown",
   "metadata": {},
   "source": [
    "Membuat Hidden Layer Kedua"
   ]
  },
  {
   "cell_type": "code",
   "execution_count": 19,
   "metadata": {},
   "outputs": [],
   "source": [
    "ann.add(tf.keras.layers.Dense(units=64, activation='relu'))"
   ]
  },
  {
   "cell_type": "markdown",
   "metadata": {},
   "source": [
    "Membuat Output Layer"
   ]
  },
  {
   "cell_type": "code",
   "execution_count": 20,
   "metadata": {},
   "outputs": [],
   "source": [
    "ann.add(tf.keras.layers.Dense(units=10, activation='softmax'))  # 10 kelas untuk 0-9"
   ]
  },
  {
   "cell_type": "markdown",
   "metadata": {},
   "source": [
    "#### **Training Model**"
   ]
  },
  {
   "cell_type": "markdown",
   "metadata": {},
   "source": [
    "Compile Model (Menyatukan Arsitektur) ANN"
   ]
  },
  {
   "cell_type": "code",
   "execution_count": 21,
   "metadata": {},
   "outputs": [],
   "source": [
    "# Compile model dengan categorical_crossentropy\n",
    "ann.compile(optimizer='adam', loss='categorical_crossentropy', metrics=['accuracy'])"
   ]
  },
  {
   "cell_type": "markdown",
   "metadata": {},
   "source": [
    "Fitting Model"
   ]
  },
  {
   "cell_type": "code",
   "execution_count": 22,
   "metadata": {},
   "outputs": [
    {
     "name": "stdout",
     "output_type": "stream",
     "text": [
      "Epoch 1/10\n",
      "\u001b[1m1500/1500\u001b[0m \u001b[32m━━━━━━━━━━━━━━━━━━━━\u001b[0m\u001b[37m\u001b[0m \u001b[1m3s\u001b[0m 1ms/step - accuracy: 0.8752 - loss: 0.4112 - val_accuracy: 0.9554 - val_loss: 0.1506\n",
      "Epoch 2/10\n",
      "\u001b[1m1500/1500\u001b[0m \u001b[32m━━━━━━━━━━━━━━━━━━━━\u001b[0m\u001b[37m\u001b[0m \u001b[1m2s\u001b[0m 1ms/step - accuracy: 0.9675 - loss: 0.1059 - val_accuracy: 0.9619 - val_loss: 0.1351\n",
      "Epoch 3/10\n",
      "\u001b[1m1500/1500\u001b[0m \u001b[32m━━━━━━━━━━━━━━━━━━━━\u001b[0m\u001b[37m\u001b[0m \u001b[1m2s\u001b[0m 1ms/step - accuracy: 0.9793 - loss: 0.0679 - val_accuracy: 0.9641 - val_loss: 0.1374\n",
      "Epoch 4/10\n",
      "\u001b[1m1500/1500\u001b[0m \u001b[32m━━━━━━━━━━━━━━━━━━━━\u001b[0m\u001b[37m\u001b[0m \u001b[1m2s\u001b[0m 1ms/step - accuracy: 0.9827 - loss: 0.0518 - val_accuracy: 0.9677 - val_loss: 0.1245\n",
      "Epoch 5/10\n",
      "\u001b[1m1500/1500\u001b[0m \u001b[32m━━━━━━━━━━━━━━━━━━━━\u001b[0m\u001b[37m\u001b[0m \u001b[1m2s\u001b[0m 1ms/step - accuracy: 0.9862 - loss: 0.0462 - val_accuracy: 0.9682 - val_loss: 0.1297\n",
      "Epoch 6/10\n",
      "\u001b[1m1500/1500\u001b[0m \u001b[32m━━━━━━━━━━━━━━━━━━━━\u001b[0m\u001b[37m\u001b[0m \u001b[1m2s\u001b[0m 1ms/step - accuracy: 0.9911 - loss: 0.0277 - val_accuracy: 0.9681 - val_loss: 0.1531\n",
      "Epoch 7/10\n",
      "\u001b[1m1500/1500\u001b[0m \u001b[32m━━━━━━━━━━━━━━━━━━━━\u001b[0m\u001b[37m\u001b[0m \u001b[1m2s\u001b[0m 1ms/step - accuracy: 0.9901 - loss: 0.0310 - val_accuracy: 0.9690 - val_loss: 0.1509\n",
      "Epoch 8/10\n",
      "\u001b[1m1500/1500\u001b[0m \u001b[32m━━━━━━━━━━━━━━━━━━━━\u001b[0m\u001b[37m\u001b[0m \u001b[1m2s\u001b[0m 1ms/step - accuracy: 0.9924 - loss: 0.0237 - val_accuracy: 0.9665 - val_loss: 0.1604\n",
      "Epoch 9/10\n",
      "\u001b[1m1500/1500\u001b[0m \u001b[32m━━━━━━━━━━━━━━━━━━━━\u001b[0m\u001b[37m\u001b[0m \u001b[1m2s\u001b[0m 1ms/step - accuracy: 0.9937 - loss: 0.0221 - val_accuracy: 0.9701 - val_loss: 0.1594\n",
      "Epoch 10/10\n",
      "\u001b[1m1500/1500\u001b[0m \u001b[32m━━━━━━━━━━━━━━━━━━━━\u001b[0m\u001b[37m\u001b[0m \u001b[1m2s\u001b[0m 1ms/step - accuracy: 0.9924 - loss: 0.0242 - val_accuracy: 0.9697 - val_loss: 0.1679\n"
     ]
    }
   ],
   "source": [
    "# Fit model dengan y_train_one_hot\n",
    "history = ann.fit(X_train, y_train_one_hot, batch_size=32, epochs=10, validation_split=0.2)"
   ]
  },
  {
   "cell_type": "markdown",
   "metadata": {},
   "source": [
    "#### **Membuat Prediksi**"
   ]
  },
  {
   "cell_type": "code",
   "execution_count": 34,
   "metadata": {},
   "outputs": [
    {
     "name": "stdout",
     "output_type": "stream",
     "text": [
      "\u001b[1m313/313\u001b[0m \u001b[32m━━━━━━━━━━━━━━━━━━━━\u001b[0m\u001b[37m\u001b[0m \u001b[1m0s\u001b[0m 594us/step\n"
     ]
    }
   ],
   "source": [
    "# Membuat prediksi\n",
    "y_pred = ann.predict(X_test)\n",
    "y_pred_classes = np.argmax(y_pred, axis=1)"
   ]
  },
  {
   "cell_type": "markdown",
   "metadata": {},
   "source": [
    "#### **Cek Akurasi dan Confusion Matrix**"
   ]
  },
  {
   "cell_type": "code",
   "execution_count": 38,
   "metadata": {},
   "outputs": [
    {
     "name": "stdout",
     "output_type": "stream",
     "text": [
      "Accuracy: 0.9699\n"
     ]
    }
   ],
   "source": [
    "# Akurasi\n",
    "accuracy = accuracy_score(y_test, y_pred_classes)\n",
    "print(f\"Accuracy: {accuracy:.4f}\")"
   ]
  },
  {
   "cell_type": "code",
   "execution_count": 39,
   "metadata": {},
   "outputs": [
    {
     "name": "stdout",
     "output_type": "stream",
     "text": [
      "              precision    recall  f1-score   support\n",
      "\n",
      "           0       0.98      0.99      0.98       980\n",
      "           1       0.99      0.98      0.99      1135\n",
      "           2       0.98      0.97      0.97      1032\n",
      "           3       0.96      0.97      0.96      1010\n",
      "           4       0.98      0.95      0.97       982\n",
      "           5       0.97      0.95      0.96       892\n",
      "           6       0.97      0.98      0.98       958\n",
      "           7       0.98      0.97      0.97      1028\n",
      "           8       0.97      0.95      0.96       974\n",
      "           9       0.93      0.98      0.95      1009\n",
      "\n",
      "    accuracy                           0.97     10000\n",
      "   macro avg       0.97      0.97      0.97     10000\n",
      "weighted avg       0.97      0.97      0.97     10000\n",
      "\n"
     ]
    }
   ],
   "source": [
    "## Classification Report\n",
    "from sklearn.metrics import classification_report\n",
    "print(classification_report(y_test, y_pred_classes))"
   ]
  },
  {
   "cell_type": "code",
   "execution_count": 41,
   "metadata": {},
   "outputs": [
    {
     "data": {
      "image/png": "[encoded data removed]",
      "text/plain": [
       "<Figure size 1000x700 with 2 Axes>"
      ]
     },
     "metadata": {},
     "output_type": "display_data"
    }
   ],
   "source": [
    "import seaborn as sns\n",
    "\n",
    "# Confusion Matrix\n",
    "cm = confusion_matrix(y_test, y_pred_classes)\n",
    "\n",
    "# Visualisasi confusion matrix dengan anotasi\n",
    "plt.figure(figsize=(10, 7))\n",
    "sns.heatmap(cm, annot=True, fmt='d', cmap='Blues', xticklabels=range(10), yticklabels=range(10))\n",
    "plt.title('Confusion Matrix')\n",
    "plt.xlabel('Predicted Label')\n",
    "plt.ylabel('True Label')\n",
    "plt.show()"
   ]
  },
  {
   "cell_type": "markdown",
   "metadata": {},
   "source": [
    "## **Penjelasan**\n",
    "\n",
    "##### **1. Akurasi** <br>\n",
    "Model di atas mencapai akurasi 97%. Ini berarti bahwa model berhasil mengklasifikasikan 97 dari 100 gambar dengan benar. Akurasi yang tinggi menunjukkan bahwa model memiliki kemampuan yang baik dalam mengenali dan membedakan angka dari 0 hingga 9.\n",
    "\n",
    "##### **2. Confusion Matrix** <br>\n",
    "Confusion matrix adalah tabel yang merangkum hasil prediksi model dan menunjukkan jumlah prediksi benar dan salah untuk setiap kelas. Ini membantu dalam memahami di mana model berkinerja baik dan di mana kesalahan terjadi.\n",
    "\n",
    "##### **3. Konfigurasi Model** <br>\n",
    "1) Pra-pengolahan Data\n",
    "- Load Data: Dataset MNIST dimuat, yang terdiri dari 60,000 gambar untuk pelatihan dan 10,000 gambar untuk pengujian.\n",
    "- Reshape Data: Data gambar (28x28 piksel) diubah menjadi vektor 1D (784 piksel) agar sesuai dengan input ANN.\n",
    "- Scaling Fitur: Menggunakan StandardScaler untuk menormalkan data, mengubah nilai piksel dari rentang [0, 255] menjadi rentang [0, 1], yang membantu mempercepat konvergensi model.\n",
    "- One-hot Encoding: Label kelas (0-9) dikonversi menjadi representasi one-hot, yang memungkinkan model mengoutput probabilitas untuk setiap kelas.\n",
    "\n",
    "2) Arsitektur ANN\n",
    "- Input Layer: Lapisan input memiliki 128 neuron dengan fungsi aktivasi ReLU (Rectified Linear Unit). Fungsi ini dipilih karena kemampuannya dalam menangani non-linearitas dan mencegah masalah vanishing gradient.\n",
    "- Hidden Layer Pertama:\n",
    "Terdiri dari 128 neuron dan menggunakan fungsi aktivasi ReLU. Layer ini menambah kompleksitas model sehingga dapat belajar dari pola yang lebih dalam.\n",
    "- Hidden Layer Kedua:\n",
    "Terdiri dari 64 neuron, juga dengan fungsi aktivasi ReLU. Menambah lapisan ini membantu model dalam belajar lebih kompleksitas tanpa menyebabkan overfitting.\n",
    "- Output Layer:\n",
    "Terdiri dari 10 neuron, masing-masing mewakili kelas angka dari 0 hingga 9, menggunakan fungsi aktivasi softmax. Softmax memberikan distribusi probabilitas untuk setiap kelas, memungkinkan pemilihan kelas dengan probabilitas tertinggi.\n",
    "\n",
    "3) Pelatihan Model\n",
    "- Kompilasi Model: Menggunakan optimizer Adam dan loss function categorical_crossentropy, yang merupakan pilihan tepat untuk masalah klasifikasi multi-kelas.\n",
    "- Fitting Model: Model dilatih dengan data pelatihan selama 10 epoch dengan batch size 32. Sebanyak 20% dari data pelatihan digunakan untuk validasi, memungkinkan pemantauan kinerja model selama pelatihan.\n",
    "\n",
    "\n",
    "### **Kesimpulan**\n",
    "Model ANN di atas menunjukkan hasil yang cukup baik dengan akurasi 97%. Konfigurasi model, mulai dari pra-pengolahan data hingga arsitektur ANN, telah diatur secara efektif untuk mencapai hasil tersebut."
   ]
  }
 ],
 "metadata": {
  "kernelspec": {
   "display_name": "Python 3",
   "language": "python",
   "name": "python3"
  },
  "language_info": {
   "codemirror_mode": {
    "name": "ipython",
    "version": 3
   },
   "file_extension": ".py",
   "mimetype": "text/x-python",
   "name": "python",
   "nbconvert_exporter": "python",
   "pygments_lexer": "ipython3",
   "version": "3.12.2"
  }
 },
 "nbformat": 4,
 "nbformat_minor": 2
}
